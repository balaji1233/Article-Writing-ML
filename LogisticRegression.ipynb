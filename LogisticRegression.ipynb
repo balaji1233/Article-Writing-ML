{
 "cells": [
  {
   "cell_type": "markdown",
   "metadata": {},
   "source": [
    "]\\"
   ]
  },
  {
   "cell_type": "markdown",
   "metadata": {},
   "source": [
    "### Import Libraries"
   ]
  },
  {
   "cell_type": "code",
   "execution_count": 32,
   "metadata": {},
   "outputs": [],
   "source": [
    "import numpy as np\n",
    "import pandas as pd\n",
    "import warnings\n",
    "# from sklearn import datasets\n",
    "# import matplotlib.pyplot as plt\n",
    "\n",
    "warnings.filterwarnings('ignore')\n",
    "\n",
    "%matplotlib inline"
   ]
  },
  {
   "cell_type": "markdown",
   "metadata": {},
   "source": [
    "### Load data from CSV file"
   ]
  },
  {
   "cell_type": "code",
   "execution_count": 33,
   "metadata": {},
   "outputs": [
    {
     "data": {
      "text/html": [
       "<div>\n",
       "<style scoped>\n",
       "    .dataframe tbody tr th:only-of-type {\n",
       "        vertical-align: middle;\n",
       "    }\n",
       "\n",
       "    .dataframe tbody tr th {\n",
       "        vertical-align: top;\n",
       "    }\n",
       "\n",
       "    .dataframe thead th {\n",
       "        text-align: right;\n",
       "    }\n",
       "</style>\n",
       "<table border=\"1\" class=\"dataframe\">\n",
       "  <thead>\n",
       "    <tr style=\"text-align: right;\">\n",
       "      <th></th>\n",
       "      <th>tenure</th>\n",
       "      <th>age</th>\n",
       "      <th>address</th>\n",
       "      <th>income</th>\n",
       "      <th>ed</th>\n",
       "      <th>employ</th>\n",
       "      <th>equip</th>\n",
       "      <th>callcard</th>\n",
       "      <th>wireless</th>\n",
       "      <th>longmon</th>\n",
       "      <th>...</th>\n",
       "      <th>pager</th>\n",
       "      <th>internet</th>\n",
       "      <th>callwait</th>\n",
       "      <th>confer</th>\n",
       "      <th>ebill</th>\n",
       "      <th>loglong</th>\n",
       "      <th>logtoll</th>\n",
       "      <th>lninc</th>\n",
       "      <th>custcat</th>\n",
       "      <th>churn</th>\n",
       "    </tr>\n",
       "  </thead>\n",
       "  <tbody>\n",
       "    <tr>\n",
       "      <th>0</th>\n",
       "      <td>11.0</td>\n",
       "      <td>33.0</td>\n",
       "      <td>7.0</td>\n",
       "      <td>136.0</td>\n",
       "      <td>5.0</td>\n",
       "      <td>5.0</td>\n",
       "      <td>0.0</td>\n",
       "      <td>1.0</td>\n",
       "      <td>1.0</td>\n",
       "      <td>4.40</td>\n",
       "      <td>...</td>\n",
       "      <td>1.0</td>\n",
       "      <td>0.0</td>\n",
       "      <td>1.0</td>\n",
       "      <td>1.0</td>\n",
       "      <td>0.0</td>\n",
       "      <td>1.482</td>\n",
       "      <td>3.033</td>\n",
       "      <td>4.913</td>\n",
       "      <td>4.0</td>\n",
       "      <td>1.0</td>\n",
       "    </tr>\n",
       "    <tr>\n",
       "      <th>1</th>\n",
       "      <td>33.0</td>\n",
       "      <td>33.0</td>\n",
       "      <td>12.0</td>\n",
       "      <td>33.0</td>\n",
       "      <td>2.0</td>\n",
       "      <td>0.0</td>\n",
       "      <td>0.0</td>\n",
       "      <td>0.0</td>\n",
       "      <td>0.0</td>\n",
       "      <td>9.45</td>\n",
       "      <td>...</td>\n",
       "      <td>0.0</td>\n",
       "      <td>0.0</td>\n",
       "      <td>0.0</td>\n",
       "      <td>0.0</td>\n",
       "      <td>0.0</td>\n",
       "      <td>2.246</td>\n",
       "      <td>3.240</td>\n",
       "      <td>3.497</td>\n",
       "      <td>1.0</td>\n",
       "      <td>1.0</td>\n",
       "    </tr>\n",
       "    <tr>\n",
       "      <th>2</th>\n",
       "      <td>23.0</td>\n",
       "      <td>30.0</td>\n",
       "      <td>9.0</td>\n",
       "      <td>30.0</td>\n",
       "      <td>1.0</td>\n",
       "      <td>2.0</td>\n",
       "      <td>0.0</td>\n",
       "      <td>0.0</td>\n",
       "      <td>0.0</td>\n",
       "      <td>6.30</td>\n",
       "      <td>...</td>\n",
       "      <td>0.0</td>\n",
       "      <td>0.0</td>\n",
       "      <td>0.0</td>\n",
       "      <td>1.0</td>\n",
       "      <td>0.0</td>\n",
       "      <td>1.841</td>\n",
       "      <td>3.240</td>\n",
       "      <td>3.401</td>\n",
       "      <td>3.0</td>\n",
       "      <td>0.0</td>\n",
       "    </tr>\n",
       "    <tr>\n",
       "      <th>3</th>\n",
       "      <td>38.0</td>\n",
       "      <td>35.0</td>\n",
       "      <td>5.0</td>\n",
       "      <td>76.0</td>\n",
       "      <td>2.0</td>\n",
       "      <td>10.0</td>\n",
       "      <td>1.0</td>\n",
       "      <td>1.0</td>\n",
       "      <td>1.0</td>\n",
       "      <td>6.05</td>\n",
       "      <td>...</td>\n",
       "      <td>1.0</td>\n",
       "      <td>1.0</td>\n",
       "      <td>1.0</td>\n",
       "      <td>1.0</td>\n",
       "      <td>1.0</td>\n",
       "      <td>1.800</td>\n",
       "      <td>3.807</td>\n",
       "      <td>4.331</td>\n",
       "      <td>4.0</td>\n",
       "      <td>0.0</td>\n",
       "    </tr>\n",
       "    <tr>\n",
       "      <th>4</th>\n",
       "      <td>7.0</td>\n",
       "      <td>35.0</td>\n",
       "      <td>14.0</td>\n",
       "      <td>80.0</td>\n",
       "      <td>2.0</td>\n",
       "      <td>15.0</td>\n",
       "      <td>0.0</td>\n",
       "      <td>1.0</td>\n",
       "      <td>0.0</td>\n",
       "      <td>7.10</td>\n",
       "      <td>...</td>\n",
       "      <td>0.0</td>\n",
       "      <td>0.0</td>\n",
       "      <td>1.0</td>\n",
       "      <td>1.0</td>\n",
       "      <td>0.0</td>\n",
       "      <td>1.960</td>\n",
       "      <td>3.091</td>\n",
       "      <td>4.382</td>\n",
       "      <td>3.0</td>\n",
       "      <td>0.0</td>\n",
       "    </tr>\n",
       "  </tbody>\n",
       "</table>\n",
       "<p>5 rows × 28 columns</p>\n",
       "</div>"
      ],
      "text/plain": [
       "   tenure   age  address  income   ed  employ  equip  callcard  wireless  \\\n",
       "0    11.0  33.0      7.0   136.0  5.0     5.0    0.0       1.0       1.0   \n",
       "1    33.0  33.0     12.0    33.0  2.0     0.0    0.0       0.0       0.0   \n",
       "2    23.0  30.0      9.0    30.0  1.0     2.0    0.0       0.0       0.0   \n",
       "3    38.0  35.0      5.0    76.0  2.0    10.0    1.0       1.0       1.0   \n",
       "4     7.0  35.0     14.0    80.0  2.0    15.0    0.0       1.0       0.0   \n",
       "\n",
       "   longmon  ...  pager  internet  callwait  confer  ebill  loglong  logtoll  \\\n",
       "0     4.40  ...    1.0       0.0       1.0     1.0    0.0    1.482    3.033   \n",
       "1     9.45  ...    0.0       0.0       0.0     0.0    0.0    2.246    3.240   \n",
       "2     6.30  ...    0.0       0.0       0.0     1.0    0.0    1.841    3.240   \n",
       "3     6.05  ...    1.0       1.0       1.0     1.0    1.0    1.800    3.807   \n",
       "4     7.10  ...    0.0       0.0       1.0     1.0    0.0    1.960    3.091   \n",
       "\n",
       "   lninc  custcat  churn  \n",
       "0  4.913      4.0    1.0  \n",
       "1  3.497      1.0    1.0  \n",
       "2  3.401      3.0    0.0  \n",
       "3  4.331      4.0    0.0  \n",
       "4  4.382      3.0    0.0  \n",
       "\n",
       "[5 rows x 28 columns]"
      ]
     },
     "execution_count": 33,
     "metadata": {},
     "output_type": "execute_result"
    }
   ],
   "source": [
    "churn_df=pd.read_csv(\"./ChurnData.csv\")\n",
    "churn_df.head()"
   ]
  },
  {
   "cell_type": "markdown",
   "metadata": {},
   "source": [
    "### Data pre-processing and selection"
   ]
  },
  {
   "cell_type": "code",
   "execution_count": 34,
   "metadata": {},
   "outputs": [
    {
     "data": {
      "text/html": [
       "<div>\n",
       "<style scoped>\n",
       "    .dataframe tbody tr th:only-of-type {\n",
       "        vertical-align: middle;\n",
       "    }\n",
       "\n",
       "    .dataframe tbody tr th {\n",
       "        vertical-align: top;\n",
       "    }\n",
       "\n",
       "    .dataframe thead th {\n",
       "        text-align: right;\n",
       "    }\n",
       "</style>\n",
       "<table border=\"1\" class=\"dataframe\">\n",
       "  <thead>\n",
       "    <tr style=\"text-align: right;\">\n",
       "      <th></th>\n",
       "      <th>tenure</th>\n",
       "      <th>age</th>\n",
       "      <th>address</th>\n",
       "      <th>income</th>\n",
       "      <th>ed</th>\n",
       "      <th>employ</th>\n",
       "      <th>equip</th>\n",
       "      <th>callcard</th>\n",
       "      <th>wireless</th>\n",
       "      <th>churn</th>\n",
       "    </tr>\n",
       "  </thead>\n",
       "  <tbody>\n",
       "    <tr>\n",
       "      <th>0</th>\n",
       "      <td>11.0</td>\n",
       "      <td>33.0</td>\n",
       "      <td>7.0</td>\n",
       "      <td>136.0</td>\n",
       "      <td>5.0</td>\n",
       "      <td>5.0</td>\n",
       "      <td>0.0</td>\n",
       "      <td>1.0</td>\n",
       "      <td>1.0</td>\n",
       "      <td>1</td>\n",
       "    </tr>\n",
       "    <tr>\n",
       "      <th>1</th>\n",
       "      <td>33.0</td>\n",
       "      <td>33.0</td>\n",
       "      <td>12.0</td>\n",
       "      <td>33.0</td>\n",
       "      <td>2.0</td>\n",
       "      <td>0.0</td>\n",
       "      <td>0.0</td>\n",
       "      <td>0.0</td>\n",
       "      <td>0.0</td>\n",
       "      <td>1</td>\n",
       "    </tr>\n",
       "    <tr>\n",
       "      <th>2</th>\n",
       "      <td>23.0</td>\n",
       "      <td>30.0</td>\n",
       "      <td>9.0</td>\n",
       "      <td>30.0</td>\n",
       "      <td>1.0</td>\n",
       "      <td>2.0</td>\n",
       "      <td>0.0</td>\n",
       "      <td>0.0</td>\n",
       "      <td>0.0</td>\n",
       "      <td>0</td>\n",
       "    </tr>\n",
       "    <tr>\n",
       "      <th>3</th>\n",
       "      <td>38.0</td>\n",
       "      <td>35.0</td>\n",
       "      <td>5.0</td>\n",
       "      <td>76.0</td>\n",
       "      <td>2.0</td>\n",
       "      <td>10.0</td>\n",
       "      <td>1.0</td>\n",
       "      <td>1.0</td>\n",
       "      <td>1.0</td>\n",
       "      <td>0</td>\n",
       "    </tr>\n",
       "    <tr>\n",
       "      <th>4</th>\n",
       "      <td>7.0</td>\n",
       "      <td>35.0</td>\n",
       "      <td>14.0</td>\n",
       "      <td>80.0</td>\n",
       "      <td>2.0</td>\n",
       "      <td>15.0</td>\n",
       "      <td>0.0</td>\n",
       "      <td>1.0</td>\n",
       "      <td>0.0</td>\n",
       "      <td>0</td>\n",
       "    </tr>\n",
       "  </tbody>\n",
       "</table>\n",
       "</div>"
      ],
      "text/plain": [
       "   tenure   age  address  income   ed  employ  equip  callcard  wireless  \\\n",
       "0    11.0  33.0      7.0   136.0  5.0     5.0    0.0       1.0       1.0   \n",
       "1    33.0  33.0     12.0    33.0  2.0     0.0    0.0       0.0       0.0   \n",
       "2    23.0  30.0      9.0    30.0  1.0     2.0    0.0       0.0       0.0   \n",
       "3    38.0  35.0      5.0    76.0  2.0    10.0    1.0       1.0       1.0   \n",
       "4     7.0  35.0     14.0    80.0  2.0    15.0    0.0       1.0       0.0   \n",
       "\n",
       "   churn  \n",
       "0      1  \n",
       "1      1  \n",
       "2      0  \n",
       "3      0  \n",
       "4      0  "
      ]
     },
     "execution_count": 34,
     "metadata": {},
     "output_type": "execute_result"
    }
   ],
   "source": [
    "churn_df=churn_df[['tenure', 'age', 'address', 'income', 'ed', 'employ', 'equip',   'callcard', 'wireless','churn']]\n",
    "churn_df['churn']=churn_df['churn'].astype('int')\n",
    "churn_df.head()"
   ]
  },
  {
   "cell_type": "code",
   "execution_count": 35,
   "metadata": {},
   "outputs": [
    {
     "name": "stdout",
     "output_type": "stream",
     "text": [
      "[[ 11.  33.   7. 136.   5.   5.   0.]\n",
      " [ 33.  33.  12.  33.   2.   0.   0.]\n",
      " [ 23.  30.   9.  30.   1.   2.   0.]\n",
      " [ 38.  35.   5.  76.   2.  10.   1.]\n",
      " [  7.  35.  14.  80.   2.  15.   0.]]\n",
      "(200, 7)\n"
     ]
    }
   ],
   "source": [
    "X=np.asarray(churn_df[['tenure', 'age', 'address', 'income', 'ed', 'employ', 'equip']])\n",
    "print(X[0:5])\n",
    "print(X.shape)"
   ]
  },
  {
   "cell_type": "code",
   "execution_count": 36,
   "metadata": {},
   "outputs": [
    {
     "data": {
      "text/plain": [
       "array([1, 1, 0, 0, 0])"
      ]
     },
     "execution_count": 36,
     "metadata": {},
     "output_type": "execute_result"
    }
   ],
   "source": [
    "y=np.asarray(churn_df['churn'])\n",
    "y[0:5]"
   ]
  },
  {
   "cell_type": "markdown",
   "metadata": {},
   "source": [
    "### Normalising data"
   ]
  },
  {
   "cell_type": "code",
   "execution_count": 37,
   "metadata": {},
   "outputs": [
    {
     "data": {
      "text/plain": [
       "array([[0.00659472, 0.01978417, 0.00419664, 0.08153477, 0.0029976 ,\n",
       "        0.0029976 , 0.        ],\n",
       "       [0.01978417, 0.01978417, 0.00719424, 0.01978417, 0.00119904,\n",
       "        0.        , 0.        ],\n",
       "       [0.01378897, 0.01798561, 0.00539568, 0.01798561, 0.00059952,\n",
       "        0.00119904, 0.        ],\n",
       "       [0.02278177, 0.02098321, 0.0029976 , 0.04556355, 0.00119904,\n",
       "        0.0059952 , 0.00059952],\n",
       "       [0.00419664, 0.02098321, 0.00839329, 0.04796163, 0.00119904,\n",
       "        0.00899281, 0.        ]])"
      ]
     },
     "execution_count": 37,
     "metadata": {},
     "output_type": "execute_result"
    }
   ],
   "source": [
    "normalized_data=X.copy()\n",
    "normalized_data = (normalized_data-normalized_data.min()) /(normalized_data.max()-normalized_data.min())\n",
    "normalized_data[0:5]"
   ]
  },
  {
   "cell_type": "markdown",
   "metadata": {},
   "source": [
    "#### Theta\n",
    "To perform a prediction we use a neural network like notaion. We have weights (w), inputs(x) and bias (b). \n",
    "$$ \n",
    "z= ( \\sum_{i=1}^{n} w_{i}x_{i} ) + b \n",
    "$$\n",
    "\n",
    "For simplicity we will represent (w,b) as $ \\theta $"
   ]
  },
  {
   "cell_type": "markdown",
   "metadata": {},
   "source": [
    "#### Sigmoid Function\n",
    "$$\n",
    " \\sigma(z)= \\frac{1}{1+\\exp^{-z}}\n",
    "$$\n"
   ]
  },
  {
   "cell_type": "markdown",
   "metadata": {},
   "source": [
    "#### Loss\n",
    "We need a loss function that expresses, for an obersvaton x, how close the classifier output $(\\hat{y} = \\sigma{(w.x+b)}) $ is to the correct output **y**. Here in this example we have used Cross entropy as our loss function. Cross entropy is basically a bernouli eqaution.\n",
    "\n",
    "Bernouli Equation in probability:\n",
    "$$ BE(p,q)=p^y(q)^{1-y} $$\n",
    "$$ L_{CE} (\\hat{y},y)= -\\frac {1}{m} \\sum_{i=1}^{m}y\\log({\\hat{y}})+(1-\\hat{y})\\log({1-\\hat{y}}) $$"
   ]
  },
  {
   "cell_type": "markdown",
   "metadata": {},
   "source": [
    "#### Gradient descent and gradients \n",
    "\n",
    "\n",
    "Now, to calculate the gradients to optimize the weights using gradient descent, we must calculate the derivative of the loss function. That is partial derivative of the cross entropy formula\n",
    "$$ \\frac {\\partial L_{CE} (\\hat{y},y)} {\\partial w} = \\frac {1}{m}(\\hat{y}-y)x_{i}^T $$\n",
    "$$ \\frac {\\partial L_{CE} (\\hat{y},y)} {\\partial b} = \\frac {1}{m}(\\hat{y}-y) $$\n",
    "\n",
    "Now since we have our gradients, we can use it to update the weights and biases\n",
    "\n",
    "##### Derivation\n",
    "$$ \\frac{d}{dx}\\ln(x)=\\frac{1}{x} $$\n",
    "$$ \\frac{d\\sigma(z)}{dz}=\\sigma(z)(1-\\sigma(z)) $$\n",
    "By the chain rule of derivatives:-\n",
    "$$ \\frac{df}{dx}=\\frac{du}{dv}.\\frac{dv}{dx} $$\n",
    "\n",
    "First, we need to calcualte the derivative of the loss function with respect to a single weight $ w_{j} $ (that is we need to compute the derivative for each weight and bias)\n",
    "\n",
    "$$ \\frac{\\partial{L_{CE}}}{\\partial{w_{j}}}=\\frac{\\partial{}}{\\partial{w_{j}}}-[y\\log\\sigma(w.x+b)+(1-y)\\log(1-\\sigma(w.x+b))] $$\n",
    "$$ \n",
    "  = -\\left[ \\frac{\\partial{}}{\\partial{w_{j}}}y\\log\\sigma(w.x+b)+\\frac{\\partial{}}{\\partial{w_{j}}} (1-y)\\log[1-\\sigma(w.x+b)] \\right ]\n",
    "$$\n",
    "Now we need to use the chain rule\n",
    "$$ \n",
    "\\frac{\\partial{L_{CE}}}{\\partial{w_{j}}} = -\\frac{y}{\\sigma(w.x+b)} \\frac{\\partial{}}{\\partial{w_{j}}}\\sigma(w.x+b)-\\frac{1-y}{1-\\sigma(w.x+b)}\\frac{\\partial{}}{\\partial{w_{j}}}(1-\\sigma(w.x+b))\n",
    "$$\n",
    "Simplifying the above equation we get,\n",
    "$$ \\frac{\\partial{L_{CE}}}{\\partial{w_{j}}}= -\\left [ \\frac{y}{\\sigma(w.x+b)}-\\frac{1-y}{1-\\sigma(w.x+b)} \\right]\\frac{\\partial{}}{\\partial{w_{j}}}\\sigma(w.x+b)\n",
    "$$\n",
    "\n",
    "Now substituting the derivative of the sigmoid function we get,\n",
    "$$ \\frac{\\partial{L_{CE}}}{\\partial{w_{j}}}= -\\left [ \\frac{y-\\sigma(w.x+b)}{\\sigma(w.x+b)[1-\\sigma(w.x+b)]}  \\right ] \\sigma(w.x+b)[1-\\sigma(w.x+b)] \\frac{\\partial(w.x+b)}{\\partial{w_{j}}} $$\n",
    "$$ = -\\left [ \\frac{y-\\sigma(w.x+b)}{\\sigma(w.x+b)[1-\\sigma(w.x+b)]}  \\right ] \\sigma(w.x+b)[1-\\sigma(w.x+b)] x_{j} $$\n",
    "$$ = -[y-\\sigma(w.x+b)]x_{j} $$\n",
    "$$ = [\\sigma(w.x+b)-y]x_{j} $$\n",
    "$$ = (\\hat{y}-y)x_{j} $$\n",
    "\n"
   ]
  },
  {
   "cell_type": "code",
   "execution_count": 38,
   "metadata": {},
   "outputs": [
    {
     "data": {
      "text/plain": [
       "array([[ 1., 11., 33., ...,  5.,  5.,  0.],\n",
       "       [ 1., 33., 33., ...,  2.,  0.,  0.],\n",
       "       [ 1., 23., 30., ...,  1.,  2.,  0.],\n",
       "       ...,\n",
       "       [ 1.,  6., 32., ...,  1., 10.,  0.],\n",
       "       [ 1., 24., 30., ...,  4.,  5.,  0.],\n",
       "       [ 1., 61., 50., ...,  2., 22.,  1.]])"
      ]
     },
     "execution_count": 38,
     "metadata": {},
     "output_type": "execute_result"
    }
   ],
   "source": [
    "np.concatenate((np.ones((X.shape[0],1)),X),axis=1)\n",
    "# X\n"
   ]
  },
  {
   "cell_type": "code",
   "execution_count": 39,
   "metadata": {},
   "outputs": [],
   "source": [
    "class LogisticRegression:\n",
    "    def __init__(self, lr, num_iter, fit_intercept=True, verbose=False):\n",
    "        self.lr = lr #learning rate\n",
    "        self.num_iter = num_iter #number of iterations\n",
    "        self.fit_intercept = fit_intercept #intercept\n",
    "        self.verbose = verbose  # Verbose means that it will output messages which could be useful for debugging and for understanding how the training is doing\n",
    "\n",
    "    #weights  \n",
    "    def add_intercept(self, X):\n",
    "        intercept = np.ones((X.shape[0], 1))\n",
    "        return np.concatenate((intercept, X), axis=1)\n",
    "\n",
    "    #sigmoid function    \n",
    "    def sigmoid(self, z):\n",
    "        return 1 / (1 + np.exp(-z))\n",
    "\n",
    "    #cross entropy loss    \n",
    "    def loss(self, h, y):\n",
    "        return (-y * np.log(h) - (1 - y) * np.log(1 - h)).mean()\n",
    "\n",
    "    #fitting the model    \n",
    "    def fit(self, X, y):\n",
    "        if self.fit_intercept: #bias initialization\n",
    "            X = self.add_intercept(X)\n",
    "\n",
    "        # weights initialization\n",
    "        self.theta = np.zeros(X.shape[1]) #bias values\n",
    "\n",
    "        for i in range(self.num_iter):\n",
    "            z = np.dot(X, self.theta) #w.x+b\n",
    "            h = self.sigmoid(z) \n",
    "            gradient = np.dot(X.T, (h - y)) / y.size #following the formula above (y.size=m), x.T is calculating the transpose of the matrix for matrix multiplication\n",
    "            self.theta -= self.lr * gradient #updating the weights by moving to the minimum by a small rate.\n",
    "\n",
    "            if(self.verbose == True and i % 100000 == 0):\n",
    "                z = np.dot(X, self.theta)\n",
    "                h = self.sigmoid(z)\n",
    "                print(f'loss: {self.loss(h, y)} \\t')\n",
    "\n",
    "    #These two functions will predict the correct labels and show us the probabilty of correct labels predicted.            \n",
    "    def predict_prob(self, X):\n",
    "        if self.fit_intercept:\n",
    "            X = self.add_intercept(X)\n",
    "\n",
    "        return self.sigmoid(np.dot(X, self.theta))\n",
    "\n",
    "    def predict(self, X):\n",
    "        return self.predict_prob(X).round()\n"
   ]
  },
  {
   "cell_type": "code",
   "execution_count": 28,
   "metadata": {},
   "outputs": [
    {
     "name": "stdout",
     "output_type": "stream",
     "text": [
      "loss: 0.6927042186454124 \t\n",
      "loss: 0.5910096716660708 \t\n",
      "loss: 0.5838561953745031 \t\n",
      "loss: 0.5779887445467037 \t\n",
      "loss: 0.5729061990167699 \t\n",
      "loss: 0.5683919821502402 \t\n",
      "loss: 0.564322571262061 \t\n",
      "loss: 0.5606177537705266 \t\n",
      "loss: 0.5572212812637848 \t\n",
      "loss: 0.5540915323955028 \t\n",
      "loss: 0.5511964079618044 \t\n",
      "loss: 0.5485103102805649 \t\n",
      "loss: 0.5460122548772475 \t\n",
      "loss: 0.5436846402124331 \t\n",
      "loss: 0.5415124191628589 \t\n",
      "loss: 0.5394825252637198 \t\n",
      "loss: 0.5375834654712491 \t\n",
      "loss: 0.5358050245217261 \t\n",
      "loss: 0.5341380456807027 \t\n",
      "loss: 0.5325742647612982 \t\n",
      "Wall time: 25.4 s\n"
     ]
    }
   ],
   "source": [
    "model=LogisticRegression(lr=0.01,num_iter=2000000,verbose=True)\n",
    "%time model.fit(normalized_data,y)"
   ]
  },
  {
   "cell_type": "code",
   "execution_count": 29,
   "metadata": {},
   "outputs": [
    {
     "data": {
      "text/plain": [
       "array([[ 1., 11., 33., ...,  5.,  5.,  0.],\n",
       "       [ 1., 33., 33., ...,  2.,  0.,  0.],\n",
       "       [ 1., 23., 30., ...,  1.,  2.,  0.],\n",
       "       ...,\n",
       "       [ 1.,  6., 32., ...,  1., 10.,  0.],\n",
       "       [ 1., 24., 30., ...,  4.,  5.,  0.],\n",
       "       [ 1., 61., 50., ...,  2., 22.,  1.]])"
      ]
     },
     "execution_count": 29,
     "metadata": {},
     "output_type": "execute_result"
    }
   ],
   "source": [
    "model.add_intercept(X)"
   ]
  },
  {
   "cell_type": "code",
   "execution_count": 30,
   "metadata": {},
   "outputs": [
    {
     "data": {
      "text/plain": [
       "array([  0.28961352, -29.03375129, -12.90644264,  -9.13661946,\n",
       "        -4.55567855,   1.52032046, -10.9023424 ,   0.70800146])"
      ]
     },
     "execution_count": 30,
     "metadata": {},
     "output_type": "execute_result"
    }
   ],
   "source": [
    "model.theta"
   ]
  },
  {
   "cell_type": "code",
   "execution_count": 31,
   "metadata": {},
   "outputs": [
    {
     "data": {
      "text/plain": [
       "0.71"
      ]
     },
     "execution_count": 31,
     "metadata": {},
     "output_type": "execute_result"
    }
   ],
   "source": [
    "preds=model.predict(X)\n",
    "(preds==y).mean()"
   ]
  }
 ],
 "metadata": {
  "interpreter": {
   "hash": "a8f61be024eba58adef938c9aa1e29e02cb3dece83a5348b1a2dafd16a070453"
  },
  "kernelspec": {
   "display_name": "Python 3.9.7 ('base')",
   "language": "python",
   "name": "python3"
  },
  "language_info": {
   "codemirror_mode": {
    "name": "ipython",
    "version": 3
   },
   "file_extension": ".py",
   "mimetype": "text/x-python",
   "name": "python",
   "nbconvert_exporter": "python",
   "pygments_lexer": "ipython3",
   "version": "3.9.7"
  },
  "orig_nbformat": 4
 },
 "nbformat": 4,
 "nbformat_minor": 2
}
